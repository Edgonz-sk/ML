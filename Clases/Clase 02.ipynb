{
  "nbformat": 4,
  "nbformat_minor": 0,
  "metadata": {
    "colab": {
      "name": "Clase 02 ML.ipynb",
      "provenance": []
    },
    "kernelspec": {
      "name": "python3",
      "display_name": "Python 3"
    },
    "language_info": {
      "name": "python"
    }
  },
  "cells": [
    {
      "cell_type": "code",
      "metadata": {
        "id": "hYEwUxjeGiaI"
      },
      "source": [
        "import numpy as np\n",
        "import pandas as pd\n",
        "from scipy import stats"
      ],
      "execution_count": null,
      "outputs": []
    },
    {
      "cell_type": "markdown",
      "metadata": {
        "id": "CpJu99GPP7iN"
      },
      "source": [
        "# Funciones"
      ]
    },
    {
      "cell_type": "code",
      "metadata": {
        "id": "qR5jqGMdP-cQ"
      },
      "source": [
        "def distEuclidiana(muestra, dataset):\n",
        "    distancias = np.zeros((dataset.shape[0],1))\n",
        "    for counter in range(0,dataset.shape[0]):\n",
        "        distancias[counter] = np.linalg.norm(muestra-dataset[counter])\n",
        "    return distancias\n",
        "\n",
        "def centroideCercano(muestra, listaCentroides):\n",
        "    listaDistancias = distEuclidiana(muestra, listaCentroides)\n",
        "    centroideCercano = np.argmin(listaDistancias)\n",
        "    return centroideCercano\n",
        "\n",
        "def clasificarPorCentroides(muestras, centroides):\n",
        "    resultado = np.zeros((muestras.shape[0],1))\n",
        "    for counter in range(0, muestras.shape[0]):\n",
        "        resultado[counter] = centroideCercano(muestras[counter], centroides)\n",
        "    return resultado"
      ],
      "execution_count": null,
      "outputs": []
    },
    {
      "cell_type": "code",
      "metadata": {
        "id": "lUT-eSx0VphM"
      },
      "source": [
        "def separarDatos(muestras, valoresEsperados, valorAFiltrar):\n",
        "    indices = np.where(valoresEsperados == valorAFiltrar)\n",
        "    return muestras[indices], valoresEsperados[indices]"
      ],
      "execution_count": null,
      "outputs": []
    },
    {
      "cell_type": "markdown",
      "metadata": {
        "id": "q79pr0dhQG_c"
      },
      "source": [
        "# Reto 02"
      ]
    },
    {
      "cell_type": "code",
      "metadata": {
        "id": "9VPs765hQI3b"
      },
      "source": [
        ""
      ],
      "execution_count": null,
      "outputs": []
    }
  ]
}